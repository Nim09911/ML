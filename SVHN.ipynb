{
  "nbformat": 4,
  "nbformat_minor": 0,
  "metadata": {
    "colab": {
      "name": "SVHN.ipynb",
      "provenance": [],
      "collapsed_sections": [],
      "authorship_tag": "ABX9TyPNnH10mga8XWh+bRSs4OA2",
      "include_colab_link": true
    },
    "kernelspec": {
      "name": "python3",
      "display_name": "Python 3"
    },
    "accelerator": "GPU"
  },
  "cells": [
    {
      "cell_type": "markdown",
      "metadata": {
        "id": "view-in-github",
        "colab_type": "text"
      },
      "source": [
        "<a href=\"https://colab.research.google.com/github/Nim09911/ML/blob/master/SVHN.ipynb\" target=\"_parent\"><img src=\"https://colab.research.google.com/assets/colab-badge.svg\" alt=\"Open In Colab\"/></a>"
      ]
    },
    {
      "cell_type": "markdown",
      "metadata": {
        "id": "OgDXvxtTZxkW",
        "colab_type": "text"
      },
      "source": [
        "# SVHN_cropped dataset\n",
        "\n",
        "---\n",
        "\n",
        " Using CNN \\\n",
        " Github : https:\\\\www.Nim09911/ML/github.com\n",
        "\n",
        "---\n",
        "**Test_acc on various model test runs** \n",
        "* 25 epochs 0.9505 \\\n",
        "* 30 epochs 0.9533 \\\n",
        "* 50 epochs 0.9537 \\\n",
        "\n",
        "The model which has been shown 'svhn_model_final.h5' has been trained on 30 epochs and shows a test accuracy of 0.9533 \n",
        "\n",
        "---"
      ]
    },
    {
      "cell_type": "code",
      "metadata": {
        "id": "ILuwq8fwOYbf",
        "colab_type": "code",
        "colab": {}
      },
      "source": [
        "#Importing required libraries and methods\n",
        "\n",
        "import numpy as np\n",
        "import tensorflow as tf\n",
        "from tensorflow import keras\n",
        "import scipy.io as sio\n",
        "from sklearn.model_selection import train_test_split\n",
        "from sklearn.preprocessing import LabelBinarizer\n",
        "from tensorflow.keras.preprocessing.image import ImageDataGenerator"
      ],
      "execution_count": 1,
      "outputs": []
    },
    {
      "cell_type": "markdown",
      "metadata": {
        "id": "6DuJ-7WdttfC",
        "colab_type": "text"
      },
      "source": [
        "**Data Loading and Extraction**"
      ]
    },
    {
      "cell_type": "code",
      "metadata": {
        "id": "sGICsLVNOcMT",
        "colab_type": "code",
        "colab": {
          "base_uri": "https://localhost:8080/",
          "height": 399
        },
        "outputId": "76b6452e-714d-4ad3-b893-44c59ee0ab5d"
      },
      "source": [
        "#getting dataset (remove commenting if loading for the first time)\n",
        "\n",
        "!wget http://ufldl.stanford.edu/housenumbers/train_32x32.mat\n",
        "!wget http://ufldl.stanford.edu/housenumbers/test_32x32.mat"
      ],
      "execution_count": 2,
      "outputs": [
        {
          "output_type": "stream",
          "text": [
            "--2020-08-28 15:02:52--  http://ufldl.stanford.edu/housenumbers/train_32x32.mat\n",
            "Resolving ufldl.stanford.edu (ufldl.stanford.edu)... 171.64.68.10\n",
            "Connecting to ufldl.stanford.edu (ufldl.stanford.edu)|171.64.68.10|:80... connected.\n",
            "HTTP request sent, awaiting response... 200 OK\n",
            "Length: 182040794 (174M) [text/plain]\n",
            "Saving to: ‘train_32x32.mat’\n",
            "\n",
            "train_32x32.mat     100%[===================>] 173.61M  63.1MB/s    in 2.8s    \n",
            "\n",
            "2020-08-28 15:02:54 (63.1 MB/s) - ‘train_32x32.mat’ saved [182040794/182040794]\n",
            "\n",
            "--2020-08-28 15:02:54--  http://ufldl.stanford.edu/housenumbers/test_32x32.mat\n",
            "Resolving ufldl.stanford.edu (ufldl.stanford.edu)... 171.64.68.10\n",
            "Connecting to ufldl.stanford.edu (ufldl.stanford.edu)|171.64.68.10|:80... connected.\n",
            "HTTP request sent, awaiting response... 200 OK\n",
            "Length: 64275384 (61M) [text/plain]\n",
            "Saving to: ‘test_32x32.mat’\n",
            "\n",
            "test_32x32.mat      100%[===================>]  61.30M  43.7MB/s    in 1.4s    \n",
            "\n",
            "2020-08-28 15:02:56 (43.7 MB/s) - ‘test_32x32.mat’ saved [64275384/64275384]\n",
            "\n"
          ],
          "name": "stdout"
        }
      ]
    },
    {
      "cell_type": "code",
      "metadata": {
        "id": "wCVkjgAEOjNm",
        "colab_type": "code",
        "colab": {}
      },
      "source": [
        "#loading the dataset\n",
        "train_raw = sio.loadmat('train_32x32.mat')\n",
        "test_raw = sio.loadmat('test_32x32.mat')"
      ],
      "execution_count": 3,
      "outputs": []
    },
    {
      "cell_type": "code",
      "metadata": {
        "id": "3E1ax9jzYFWz",
        "colab_type": "code",
        "colab": {}
      },
      "source": [
        "#extracing the features from the loaded data"
      ],
      "execution_count": 4,
      "outputs": []
    },
    {
      "cell_type": "code",
      "metadata": {
        "id": "MEaP_wNcOkAb",
        "colab_type": "code",
        "colab": {}
      },
      "source": [
        "train_images = np.array(train_raw['X'])\n",
        "test_images = np.array(test_raw['X'])\n",
        "\n",
        "train_labels = train_raw['y']\n",
        "test_labels = test_raw['y']"
      ],
      "execution_count": 5,
      "outputs": []
    },
    {
      "cell_type": "code",
      "metadata": {
        "id": "w4bNLb28OnIH",
        "colab_type": "code",
        "colab": {}
      },
      "source": [
        "train_images = np.moveaxis(train_images, -1, 0)\n",
        "test_images = np.moveaxis(test_images, -1, 0)"
      ],
      "execution_count": 6,
      "outputs": []
    },
    {
      "cell_type": "code",
      "metadata": {
        "id": "ifUpz2h4OsKU",
        "colab_type": "code",
        "colab": {}
      },
      "source": [
        "train_images = train_images.astype('float64')\n",
        "test_images = test_images.astype('float64')\n",
        "\n",
        "train_images /= 255.0\n",
        "test_images /= 255.0\n",
        "\n",
        "train_labels = train_labels.astype('int64')\n",
        "test_labels = test_labels.astype('int64')"
      ],
      "execution_count": 7,
      "outputs": []
    },
    {
      "cell_type": "code",
      "metadata": {
        "id": "f69UfunVOvJX",
        "colab_type": "code",
        "colab": {}
      },
      "source": [
        "lb = LabelBinarizer()\n",
        "train_labels = lb.fit_transform(train_labels)\n",
        "test_labels = lb.fit_transform(test_labels)"
      ],
      "execution_count": 8,
      "outputs": []
    },
    {
      "cell_type": "code",
      "metadata": {
        "id": "euzI3LMrPYlf",
        "colab_type": "code",
        "colab": {}
      },
      "source": [
        "#splitting the data into training and testing\n",
        "X_train, X_val, y_train, y_val = train_test_split(train_images, train_labels,\n",
        "                                                  test_size=0.15, random_state=22)"
      ],
      "execution_count": 9,
      "outputs": []
    },
    {
      "cell_type": "markdown",
      "metadata": {
        "id": "R91WE_ii-f3l",
        "colab_type": "text"
      },
      "source": [
        "**Image augmentation**"
      ]
    },
    {
      "cell_type": "code",
      "metadata": {
        "id": "Sv932UQaOw_V",
        "colab_type": "code",
        "colab": {}
      },
      "source": [
        "#data generation and augmentation\n",
        "datagen = ImageDataGenerator(rotation_range=8,\n",
        "                             zoom_range=[0.95, 1.05],\n",
        "                             height_shift_range=0.10,\n",
        "                             shear_range=0.15)\n",
        "datagen = datagen.flow(X_train,y_train,batch_size=256)"
      ],
      "execution_count": 10,
      "outputs": []
    },
    {
      "cell_type": "code",
      "metadata": {
        "id": "-pu-9eicJO5l",
        "colab_type": "code",
        "colab": {}
      },
      "source": [
        "#creating a callback to stop training if test_acc is greater than 95.00%\n",
        "\n",
        "#class Callback(tf.keras.callbacks.Callback):\n",
        "  #def on_epoch_end(self, epoch, logs={}):\n",
        "    #test_loss, test_acc = model.evaluate(x=test_images, y=test_labels, verbose=0)\n",
        "    #if(test_acc >= 0.9500):\n",
        "      #self.model.stop_training = True\n",
        "#callbacks = Callback()"
      ],
      "execution_count": 11,
      "outputs": []
    },
    {
      "cell_type": "markdown",
      "metadata": {
        "id": "PmgH2dcr-6_A",
        "colab_type": "text"
      },
      "source": [
        "**Model**"
      ]
    },
    {
      "cell_type": "code",
      "metadata": {
        "id": "ljSTCTutO1X7",
        "colab_type": "code",
        "colab": {
          "base_uri": "https://localhost:8080/",
          "height": 849
        },
        "outputId": "fa9f9b2f-3f0d-4ec6-f106-ec65a9e31adc"
      },
      "source": [
        "#Making the model\n",
        "\n",
        "from keras import layers\n",
        "\n",
        "model = keras.Sequential([\n",
        "    \n",
        "    #First layer\n",
        "    layers.Conv2D(32, (3, 3),padding='same', activation='relu', input_shape=(32, 32, 3)),\n",
        "    layers.BatchNormalization(),\n",
        "    layers.MaxPooling2D((2, 2)),\n",
        "    layers.Dropout(0.2),\n",
        "    \n",
        "    #Second layer\n",
        "    layers.Conv2D(64, (5, 5),padding='same', activation='relu'),\n",
        "    layers.BatchNormalization(),\n",
        "    layers.MaxPooling2D((2, 2)),\n",
        "    layers.Dropout(0.2),\n",
        "    \n",
        "    #Third layer\n",
        "    layers.Conv2D(128, (7, 7),padding='same', activation='relu'),\n",
        "    layers.BatchNormalization(),\n",
        "    layers.MaxPooling2D((2, 2)),\n",
        "    layers.Dropout(0.3),\n",
        "\n",
        "    #Fourth layer\n",
        "    layers.Conv2D(256, (3, 3), activation='relu'),\n",
        "    layers.BatchNormalization(),\n",
        "    layers.MaxPooling2D((2, 2)),\n",
        "    layers.Dropout(0.3),\n",
        "    \n",
        "    #Flatten\n",
        "    layers.Flatten(),   \n",
        "\n",
        "    #Dense Layer\n",
        "    layers.Dense(256, activation='relu'),\n",
        "    layers.Dropout(0.1),\n",
        "    \n",
        "    #Output layer\n",
        "    layers.Dense(10, activation='softmax')\n",
        "])\n",
        "\n",
        "#Optimizer\n",
        "optimizer = tf.keras.optimizers.Adam(lr=1e-3, amsgrad=True)\n",
        "\n",
        "#Compile the model\n",
        "model.compile(optimizer=optimizer,\n",
        "              loss='categorical_crossentropy',\n",
        "              metrics=['accuracy'])\n",
        "\n",
        "model.summary()"
      ],
      "execution_count": 12,
      "outputs": [
        {
          "output_type": "stream",
          "text": [
            "Model: \"sequential\"\n",
            "_________________________________________________________________\n",
            "Layer (type)                 Output Shape              Param #   \n",
            "=================================================================\n",
            "conv2d (Conv2D)              (None, 32, 32, 32)        896       \n",
            "_________________________________________________________________\n",
            "batch_normalization (BatchNo (None, 32, 32, 32)        128       \n",
            "_________________________________________________________________\n",
            "max_pooling2d (MaxPooling2D) (None, 16, 16, 32)        0         \n",
            "_________________________________________________________________\n",
            "dropout (Dropout)            (None, 16, 16, 32)        0         \n",
            "_________________________________________________________________\n",
            "conv2d_1 (Conv2D)            (None, 16, 16, 64)        51264     \n",
            "_________________________________________________________________\n",
            "batch_normalization_1 (Batch (None, 16, 16, 64)        256       \n",
            "_________________________________________________________________\n",
            "max_pooling2d_1 (MaxPooling2 (None, 8, 8, 64)          0         \n",
            "_________________________________________________________________\n",
            "dropout_1 (Dropout)          (None, 8, 8, 64)          0         \n",
            "_________________________________________________________________\n",
            "conv2d_2 (Conv2D)            (None, 8, 8, 128)         401536    \n",
            "_________________________________________________________________\n",
            "batch_normalization_2 (Batch (None, 8, 8, 128)         512       \n",
            "_________________________________________________________________\n",
            "max_pooling2d_2 (MaxPooling2 (None, 4, 4, 128)         0         \n",
            "_________________________________________________________________\n",
            "dropout_2 (Dropout)          (None, 4, 4, 128)         0         \n",
            "_________________________________________________________________\n",
            "conv2d_3 (Conv2D)            (None, 2, 2, 256)         295168    \n",
            "_________________________________________________________________\n",
            "batch_normalization_3 (Batch (None, 2, 2, 256)         1024      \n",
            "_________________________________________________________________\n",
            "max_pooling2d_3 (MaxPooling2 (None, 1, 1, 256)         0         \n",
            "_________________________________________________________________\n",
            "dropout_3 (Dropout)          (None, 1, 1, 256)         0         \n",
            "_________________________________________________________________\n",
            "flatten (Flatten)            (None, 256)               0         \n",
            "_________________________________________________________________\n",
            "dense (Dense)                (None, 256)               65792     \n",
            "_________________________________________________________________\n",
            "dropout_4 (Dropout)          (None, 256)               0         \n",
            "_________________________________________________________________\n",
            "dense_1 (Dense)              (None, 10)                2570      \n",
            "=================================================================\n",
            "Total params: 819,146\n",
            "Trainable params: 818,186\n",
            "Non-trainable params: 960\n",
            "_________________________________________________________________\n"
          ],
          "name": "stdout"
        }
      ]
    },
    {
      "cell_type": "code",
      "metadata": {
        "id": "vvDMR3QjO49T",
        "colab_type": "code",
        "colab": {
          "base_uri": "https://localhost:8080/",
          "height": 1000
        },
        "outputId": "d7086f22-41b8-493f-c628-fd34a0a81eaf"
      },
      "source": [
        "#Fitting the model on training data\n",
        "history = model.fit(\n",
        "    datagen,\n",
        "    epochs=30,\n",
        "    validation_data=(X_val, y_val) )\n",
        "    #callbacks = [callbacks]"
      ],
      "execution_count": 13,
      "outputs": [
        {
          "output_type": "stream",
          "text": [
            "Epoch 1/30\n",
            "244/244 [==============================] - 29s 117ms/step - loss: 1.6632 - accuracy: 0.4319 - val_loss: 2.3693 - val_accuracy: 0.2525\n",
            "Epoch 2/30\n",
            "244/244 [==============================] - 28s 115ms/step - loss: 0.6382 - accuracy: 0.7965 - val_loss: 1.0031 - val_accuracy: 0.6779\n",
            "Epoch 3/30\n",
            "244/244 [==============================] - 27s 113ms/step - loss: 0.4758 - accuracy: 0.8535 - val_loss: 0.3184 - val_accuracy: 0.9048\n",
            "Epoch 4/30\n",
            "244/244 [==============================] - 28s 113ms/step - loss: 0.4168 - accuracy: 0.8713 - val_loss: 0.3112 - val_accuracy: 0.9068\n",
            "Epoch 5/30\n",
            "244/244 [==============================] - 28s 114ms/step - loss: 0.3661 - accuracy: 0.8873 - val_loss: 0.2888 - val_accuracy: 0.9135\n",
            "Epoch 6/30\n",
            "244/244 [==============================] - 27s 112ms/step - loss: 0.3472 - accuracy: 0.8935 - val_loss: 0.2718 - val_accuracy: 0.9225\n",
            "Epoch 7/30\n",
            "244/244 [==============================] - 28s 113ms/step - loss: 0.3254 - accuracy: 0.8987 - val_loss: 0.2441 - val_accuracy: 0.9300\n",
            "Epoch 8/30\n",
            "244/244 [==============================] - 27s 113ms/step - loss: 0.3109 - accuracy: 0.9055 - val_loss: 0.2670 - val_accuracy: 0.9215\n",
            "Epoch 9/30\n",
            "244/244 [==============================] - 27s 113ms/step - loss: 0.2964 - accuracy: 0.9108 - val_loss: 0.2250 - val_accuracy: 0.9370\n",
            "Epoch 10/30\n",
            "244/244 [==============================] - 27s 111ms/step - loss: 0.2834 - accuracy: 0.9134 - val_loss: 0.2356 - val_accuracy: 0.9333\n",
            "Epoch 11/30\n",
            "244/244 [==============================] - 27s 112ms/step - loss: 0.2715 - accuracy: 0.9172 - val_loss: 0.2212 - val_accuracy: 0.9376\n",
            "Epoch 12/30\n",
            "244/244 [==============================] - 27s 111ms/step - loss: 0.2598 - accuracy: 0.9205 - val_loss: 0.2304 - val_accuracy: 0.9355\n",
            "Epoch 13/30\n",
            "244/244 [==============================] - 27s 110ms/step - loss: 0.2532 - accuracy: 0.9234 - val_loss: 0.2175 - val_accuracy: 0.9403\n",
            "Epoch 14/30\n",
            "244/244 [==============================] - 27s 111ms/step - loss: 0.2489 - accuracy: 0.9243 - val_loss: 0.2248 - val_accuracy: 0.9348\n",
            "Epoch 15/30\n",
            "244/244 [==============================] - 27s 110ms/step - loss: 0.2481 - accuracy: 0.9248 - val_loss: 0.2056 - val_accuracy: 0.9421\n",
            "Epoch 16/30\n",
            "244/244 [==============================] - 27s 111ms/step - loss: 0.2362 - accuracy: 0.9285 - val_loss: 0.2210 - val_accuracy: 0.9379\n",
            "Epoch 17/30\n",
            "244/244 [==============================] - 27s 110ms/step - loss: 0.2326 - accuracy: 0.9295 - val_loss: 0.2000 - val_accuracy: 0.9454\n",
            "Epoch 18/30\n",
            "244/244 [==============================] - 27s 110ms/step - loss: 0.2259 - accuracy: 0.9313 - val_loss: 0.2030 - val_accuracy: 0.9441\n",
            "Epoch 19/30\n",
            "244/244 [==============================] - 27s 110ms/step - loss: 0.2185 - accuracy: 0.9330 - val_loss: 0.2002 - val_accuracy: 0.9469\n",
            "Epoch 20/30\n",
            "244/244 [==============================] - 27s 112ms/step - loss: 0.2185 - accuracy: 0.9333 - val_loss: 0.1970 - val_accuracy: 0.9446\n",
            "Epoch 21/30\n",
            "244/244 [==============================] - 27s 111ms/step - loss: 0.2093 - accuracy: 0.9360 - val_loss: 0.2019 - val_accuracy: 0.9442\n",
            "Epoch 22/30\n",
            "244/244 [==============================] - 27s 110ms/step - loss: 0.2071 - accuracy: 0.9370 - val_loss: 0.1912 - val_accuracy: 0.9497\n",
            "Epoch 23/30\n",
            "244/244 [==============================] - 27s 110ms/step - loss: 0.2014 - accuracy: 0.9389 - val_loss: 0.1910 - val_accuracy: 0.9489\n",
            "Epoch 24/30\n",
            "244/244 [==============================] - 27s 110ms/step - loss: 0.2009 - accuracy: 0.9385 - val_loss: 0.2028 - val_accuracy: 0.9472\n",
            "Epoch 25/30\n",
            "244/244 [==============================] - 27s 109ms/step - loss: 0.2019 - accuracy: 0.9378 - val_loss: 0.1997 - val_accuracy: 0.9489\n",
            "Epoch 26/30\n",
            "244/244 [==============================] - 27s 111ms/step - loss: 0.1919 - accuracy: 0.9407 - val_loss: 0.2000 - val_accuracy: 0.9477\n",
            "Epoch 27/30\n",
            "244/244 [==============================] - 27s 110ms/step - loss: 0.1883 - accuracy: 0.9423 - val_loss: 0.1943 - val_accuracy: 0.9498\n",
            "Epoch 28/30\n",
            "244/244 [==============================] - 27s 111ms/step - loss: 0.1842 - accuracy: 0.9445 - val_loss: 0.2021 - val_accuracy: 0.9467\n",
            "Epoch 29/30\n",
            "244/244 [==============================] - 27s 110ms/step - loss: 0.1823 - accuracy: 0.9443 - val_loss: 0.1999 - val_accuracy: 0.9480\n",
            "Epoch 30/30\n",
            "244/244 [==============================] - 27s 110ms/step - loss: 0.1800 - accuracy: 0.9441 - val_loss: 0.1911 - val_accuracy: 0.9506\n"
          ],
          "name": "stdout"
        }
      ]
    },
    {
      "cell_type": "code",
      "metadata": {
        "id": "vVmqvfrdO9mC",
        "colab_type": "code",
        "colab": {
          "base_uri": "https://localhost:8080/",
          "height": 35
        },
        "outputId": "c6d2de02-bf0a-4412-cbd6-76c4ecb8efbb"
      },
      "source": [
        "# Final evaluation of the model on test images and labels\n",
        "test_loss, test_acc = model.evaluate(x=test_images, y=test_labels, verbose=1)"
      ],
      "execution_count": 14,
      "outputs": [
        {
          "output_type": "stream",
          "text": [
            "814/814 [==============================] - 3s 3ms/step - loss: 0.1801 - accuracy: 0.9533\n"
          ],
          "name": "stdout"
        }
      ]
    },
    {
      "cell_type": "markdown",
      "metadata": {
        "id": "_Qn-yE3s-_jE",
        "colab_type": "text"
      },
      "source": [
        "**Visualising accuracy and loss**"
      ]
    },
    {
      "cell_type": "code",
      "metadata": {
        "id": "kUbZiXLEb652",
        "colab_type": "code",
        "colab": {
          "base_uri": "https://localhost:8080/",
          "height": 295
        },
        "outputId": "4057a9f8-ee28-48f9-b76e-e6583e1839db"
      },
      "source": [
        "import matplotlib.pyplot as plt\n",
        "\n",
        "#plotting accuracy\n",
        "plt.plot(history.history['accuracy'])\n",
        "plt.plot(history.history['val_accuracy'])\n",
        "plt.title('model accuracy')\n",
        "plt.ylabel('accuracy')\n",
        "plt.xlabel('epoch')\n",
        "plt.legend(['train', 'test'], loc='upper left')\n",
        "plt.show()"
      ],
      "execution_count": 15,
      "outputs": [
        {
          "output_type": "display_data",
          "data": {
            "image/png": "[encoded data removed]",
            "text/plain": [
              "<Figure size 432x288 with 1 Axes>"
            ]
          },
          "metadata": {
            "tags": [],
            "needs_background": "light"
          }
        }
      ]
    },
    {
      "cell_type": "code",
      "metadata": {
        "id": "NjXumfwoNF6d",
        "colab_type": "code",
        "colab": {
          "base_uri": "https://localhost:8080/",
          "height": 295
        },
        "outputId": "97a0ef88-127d-4421-8e7a-84cc0015bcdf"
      },
      "source": [
        "#plotting loss\n",
        "plt.plot(history.history['loss'])\n",
        "plt.plot(history.history['val_loss'])\n",
        "plt.title('model loss')\n",
        "plt.ylabel('loss')\n",
        "plt.xlabel('epoch')\n",
        "plt.legend(['train', 'test'], loc='upper left')\n",
        "plt.show()"
      ],
      "execution_count": 16,
      "outputs": [
        {
          "output_type": "display_data",
          "data": {
            "image/png": "[encoded data removed]",
            "text/plain": [
              "<Figure size 432x288 with 1 Axes>"
            ]
          },
          "metadata": {
            "tags": [],
            "needs_background": "light"
          }
        }
      ]
    },
    {
      "cell_type": "code",
      "metadata": {
        "id": "GlEnAXEGp5WZ",
        "colab_type": "code",
        "colab": {}
      },
      "source": [
        "model.save('svhn_final_model.h5')"
      ],
      "execution_count": 21,
      "outputs": []
    }
  ]
}