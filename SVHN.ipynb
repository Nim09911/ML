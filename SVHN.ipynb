{
  "nbformat": 4,
  "nbformat_minor": 0,
  "metadata": {
    "colab": {
      "name": "SVHN.ipynb",
      "provenance": [],
      "collapsed_sections": [],
      "authorship_tag": "ABX9TyMDtCVPFwDezrB6KwQ6ixMn",
      "include_colab_link": true
    },
    "kernelspec": {
      "name": "python3",
      "display_name": "Python 3"
    },
    "accelerator": "GPU"
  },
  "cells": [
    {
      "cell_type": "markdown",
      "metadata": {
        "id": "view-in-github",
        "colab_type": "text"
      },
      "source": [
        "<a href=\"https://colab.research.google.com/github/Nim09911/ML/blob/master/SVHN.ipynb\" target=\"_parent\"><img src=\"https://colab.research.google.com/assets/colab-badge.svg\" alt=\"Open In Colab\"/></a>"
      ]
    },
    {
      "cell_type": "code",
      "metadata": {
        "id": "_LDuQJzY-aYw",
        "colab_type": "code",
        "colab": {}
      },
      "source": [
        "import numpy as np\n",
        "import tensorflow as tf\n",
        "from tensorflow import keras\n",
        "import scipy.io as sio\n",
        "from sklearn.model_selection import train_test_split\n",
        "from sklearn.preprocessing import LabelBinarizer\n",
        "from tensorflow.keras.preprocessing.image import ImageDataGenerator"
      ],
      "execution_count": 1,
      "outputs": []
    },
    {
      "cell_type": "code",
      "metadata": {
        "id": "w3wr2Vc1-yCk",
        "colab_type": "code",
        "colab": {}
      },
      "source": [
        "#!wget http://ufldl.stanford.edu/housenumbers/train_32x32.mat\n",
        "#!wget http://ufldl.stanford.edu/housenumbers/test_32x32.mat\n",
        "\n"
      ],
      "execution_count": 2,
      "outputs": []
    },
    {
      "cell_type": "code",
      "metadata": {
        "id": "e8fBffeWe01L",
        "colab_type": "code",
        "colab": {}
      },
      "source": [
        "train_raw = sio.loadmat('train_32x32.mat')\n",
        "test_raw = sio.loadmat('test_32x32.mat')"
      ],
      "execution_count": 3,
      "outputs": []
    },
    {
      "cell_type": "code",
      "metadata": {
        "id": "TuAGaezqaf8x",
        "colab_type": "code",
        "colab": {}
      },
      "source": [
        "train_images = np.array(train_raw['X'])\n",
        "test_images = np.array(test_raw['X'])\n",
        "\n",
        "train_labels = train_raw['y']\n",
        "test_labels = test_raw['y']"
      ],
      "execution_count": 4,
      "outputs": []
    },
    {
      "cell_type": "code",
      "metadata": {
        "id": "Fh3wSinopB9T",
        "colab_type": "code",
        "colab": {
          "base_uri": "https://localhost:8080/",
          "height": 52
        },
        "outputId": "b2c794ce-3c5c-4609-d290-46443dd8e476"
      },
      "source": [
        "train_images = np.moveaxis(train_images, -1, 0)\n",
        "test_images = np.moveaxis(test_images, -1, 0)\n",
        "\n",
        "print(train_images.shape)\n",
        "print(test_images.shape)"
      ],
      "execution_count": 5,
      "outputs": [
        {
          "output_type": "stream",
          "text": [
            "(73257, 32, 32, 3)\n",
            "(26032, 32, 32, 3)\n"
          ],
          "name": "stdout"
        }
      ]
    },
    {
      "cell_type": "code",
      "metadata": {
        "id": "09xW0_qz_bDL",
        "colab_type": "code",
        "colab": {}
      },
      "source": [
        "train_images = train_images.astype('float64')\n",
        "test_images = test_images.astype('float64')\n",
        "\n",
        "train_images /= 255.0\n",
        "test_images /= 255.0\n",
        "\n",
        "train_labels = train_labels.astype('int64')\n",
        "test_labels = test_labels.astype('int64')\n"
      ],
      "execution_count": 6,
      "outputs": []
    },
    {
      "cell_type": "code",
      "metadata": {
        "id": "E3QyGo_gumf4",
        "colab_type": "code",
        "colab": {}
      },
      "source": [
        "lb = LabelBinarizer()\n",
        "train_labels = lb.fit_transform(train_labels)\n",
        "test_labels = lb.fit_transform(test_labels)"
      ],
      "execution_count": 7,
      "outputs": []
    },
    {
      "cell_type": "code",
      "metadata": {
        "id": "qzDacI2Qsmt5",
        "colab_type": "code",
        "colab": {}
      },
      "source": [
        "X_train, X_val, y_train, y_val = train_test_split(train_images, train_labels,\n",
        "                                                  test_size=0.15, random_state=22)"
      ],
      "execution_count": 8,
      "outputs": []
    },
    {
      "cell_type": "code",
      "metadata": {
        "id": "6JZsQWtY_jph",
        "colab_type": "code",
        "colab": {}
      },
      "source": [
        "datagen = ImageDataGenerator(rotation_range=8,\n",
        "                             zoom_range=[0.95, 1.05],\n",
        "                             height_shift_range=0.10,\n",
        "                             shear_range=0.15)\n",
        "datagen = datagen.flow(X_train,y_train,batch_size=32)"
      ],
      "execution_count": 9,
      "outputs": []
    },
    {
      "cell_type": "code",
      "metadata": {
        "id": "gqm0Wq_3_w0e",
        "colab_type": "code",
        "colab": {
          "base_uri": "https://localhost:8080/",
          "height": 815
        },
        "outputId": "daba0fa6-1c36-470a-d5e9-853207a05033"
      },
      "source": [
        "\n",
        "model = keras.Sequential([\n",
        "    keras.layers.Conv2D(32, (3, 3), padding='same', \n",
        "                           activation='relu',\n",
        "                           input_shape=(32, 32, 3)),\n",
        "    keras.layers.BatchNormalization(),\n",
        "    keras.layers.Conv2D(32, (3, 3), padding='same', \n",
        "                        activation='relu'),\n",
        "    keras.layers.MaxPooling2D((2, 2)),\n",
        "    keras.layers.Dropout(0.3),\n",
        "    \n",
        "    keras.layers.Conv2D(64, (3, 3), padding='same', \n",
        "                           activation='relu'),\n",
        "    keras.layers.BatchNormalization(),\n",
        "    keras.layers.Conv2D(64, (3, 3), padding='same',\n",
        "                        activation='relu'),\n",
        "    keras.layers.MaxPooling2D((2, 2)),\n",
        "    keras.layers.Dropout(0.3),\n",
        "    \n",
        "    keras.layers.Conv2D(128, (3, 3), padding='same', \n",
        "                           activation='relu'),\n",
        "    keras.layers.BatchNormalization(),\n",
        "    keras.layers.Conv2D(128, (3, 3), padding='same',\n",
        "                        activation='relu'),\n",
        "    keras.layers.MaxPooling2D((2, 2)),\n",
        "    keras.layers.Dropout(0.3),\n",
        "    \n",
        "    keras.layers.Flatten(),\n",
        "    keras.layers.Dense(128, activation='relu'),\n",
        "    keras.layers.Dropout(0.4),    \n",
        "    keras.layers.Dense(10,  activation='softmax')\n",
        "])\n",
        "\n",
        "#early_stopping = tf.keras.callbacks.EarlyStopping(patience=8)\n",
        "optimizer = tf.keras.optimizers.Adam(lr=1e-3, amsgrad=True)\n",
        "\n",
        "model.compile(optimizer=optimizer,\n",
        "              loss='categorical_crossentropy',\n",
        "              metrics=['accuracy'])\n",
        "\n",
        "model.summary()"
      ],
      "execution_count": 10,
      "outputs": [
        {
          "output_type": "stream",
          "text": [
            "Model: \"sequential\"\n",
            "_________________________________________________________________\n",
            "Layer (type)                 Output Shape              Param #   \n",
            "=================================================================\n",
            "conv2d (Conv2D)              (None, 32, 32, 32)        896       \n",
            "_________________________________________________________________\n",
            "batch_normalization (BatchNo (None, 32, 32, 32)        128       \n",
            "_________________________________________________________________\n",
            "conv2d_1 (Conv2D)            (None, 32, 32, 32)        9248      \n",
            "_________________________________________________________________\n",
            "max_pooling2d (MaxPooling2D) (None, 16, 16, 32)        0         \n",
            "_________________________________________________________________\n",
            "dropout (Dropout)            (None, 16, 16, 32)        0         \n",
            "_________________________________________________________________\n",
            "conv2d_2 (Conv2D)            (None, 16, 16, 64)        18496     \n",
            "_________________________________________________________________\n",
            "batch_normalization_1 (Batch (None, 16, 16, 64)        256       \n",
            "_________________________________________________________________\n",
            "conv2d_3 (Conv2D)            (None, 16, 16, 64)        36928     \n",
            "_________________________________________________________________\n",
            "max_pooling2d_1 (MaxPooling2 (None, 8, 8, 64)          0         \n",
            "_________________________________________________________________\n",
            "dropout_1 (Dropout)          (None, 8, 8, 64)          0         \n",
            "_________________________________________________________________\n",
            "conv2d_4 (Conv2D)            (None, 8, 8, 128)         73856     \n",
            "_________________________________________________________________\n",
            "batch_normalization_2 (Batch (None, 8, 8, 128)         512       \n",
            "_________________________________________________________________\n",
            "conv2d_5 (Conv2D)            (None, 8, 8, 128)         147584    \n",
            "_________________________________________________________________\n",
            "max_pooling2d_2 (MaxPooling2 (None, 4, 4, 128)         0         \n",
            "_________________________________________________________________\n",
            "dropout_2 (Dropout)          (None, 4, 4, 128)         0         \n",
            "_________________________________________________________________\n",
            "flatten (Flatten)            (None, 2048)              0         \n",
            "_________________________________________________________________\n",
            "dense (Dense)                (None, 128)               262272    \n",
            "_________________________________________________________________\n",
            "dropout_3 (Dropout)          (None, 128)               0         \n",
            "_________________________________________________________________\n",
            "dense_1 (Dense)              (None, 10)                1290      \n",
            "=================================================================\n",
            "Total params: 551,466\n",
            "Trainable params: 551,018\n",
            "Non-trainable params: 448\n",
            "_________________________________________________________________\n"
          ],
          "name": "stdout"
        }
      ]
    },
    {
      "cell_type": "code",
      "metadata": {
        "id": "cdaLvjJDAd9o",
        "colab_type": "code",
        "colab": {
          "base_uri": "https://localhost:8080/",
          "height": 711
        },
        "outputId": "eb02adb1-9c5f-4721-d542-160b3fd7a6dd"
      },
      "source": [
        "history = model.fit(datagen,epochs=20, validation_data=(X_val, y_val))"
      ],
      "execution_count": 11,
      "outputs": [
        {
          "output_type": "stream",
          "text": [
            "Epoch 1/20\n",
            "1946/1946 [==============================] - 47s 24ms/step - loss: 2.0492 - accuracy: 0.2520 - val_loss: 1.5478 - val_accuracy: 0.4676\n",
            "Epoch 2/20\n",
            "1946/1946 [==============================] - 47s 24ms/step - loss: 1.4671 - accuracy: 0.4671 - val_loss: 0.5041 - val_accuracy: 0.8518\n",
            "Epoch 3/20\n",
            "1946/1946 [==============================] - 47s 24ms/step - loss: 0.6175 - accuracy: 0.8174 - val_loss: 0.4749 - val_accuracy: 0.8655\n",
            "Epoch 4/20\n",
            "1946/1946 [==============================] - 46s 24ms/step - loss: 0.4630 - accuracy: 0.8651 - val_loss: 0.3050 - val_accuracy: 0.9152\n",
            "Epoch 5/20\n",
            "1946/1946 [==============================] - 47s 24ms/step - loss: 0.3993 - accuracy: 0.8857 - val_loss: 0.2662 - val_accuracy: 0.9289\n",
            "Epoch 6/20\n",
            "1946/1946 [==============================] - 47s 24ms/step - loss: 0.3602 - accuracy: 0.8961 - val_loss: 0.2494 - val_accuracy: 0.9307\n",
            "Epoch 7/20\n",
            "1946/1946 [==============================] - 47s 24ms/step - loss: 0.3378 - accuracy: 0.9035 - val_loss: 0.2457 - val_accuracy: 0.9331\n",
            "Epoch 8/20\n",
            "1946/1946 [==============================] - 47s 24ms/step - loss: 0.3170 - accuracy: 0.9089 - val_loss: 0.2499 - val_accuracy: 0.9298\n",
            "Epoch 9/20\n",
            "1946/1946 [==============================] - 47s 24ms/step - loss: 0.3016 - accuracy: 0.9138 - val_loss: 0.2288 - val_accuracy: 0.9384\n",
            "Epoch 10/20\n",
            "1946/1946 [==============================] - 47s 24ms/step - loss: 0.2905 - accuracy: 0.9182 - val_loss: 0.2430 - val_accuracy: 0.9338\n",
            "Epoch 11/20\n",
            "1946/1946 [==============================] - 47s 24ms/step - loss: 0.2787 - accuracy: 0.9211 - val_loss: 0.2146 - val_accuracy: 0.9437\n",
            "Epoch 12/20\n",
            "1946/1946 [==============================] - 47s 24ms/step - loss: 0.2719 - accuracy: 0.9237 - val_loss: 0.2214 - val_accuracy: 0.9443\n",
            "Epoch 13/20\n",
            "1946/1946 [==============================] - 47s 24ms/step - loss: 0.2649 - accuracy: 0.9257 - val_loss: 0.2061 - val_accuracy: 0.9477\n",
            "Epoch 14/20\n",
            "1946/1946 [==============================] - 47s 24ms/step - loss: 0.2523 - accuracy: 0.9286 - val_loss: 0.2463 - val_accuracy: 0.9344\n",
            "Epoch 15/20\n",
            "1946/1946 [==============================] - 46s 24ms/step - loss: 0.2476 - accuracy: 0.9294 - val_loss: 0.2123 - val_accuracy: 0.9463\n",
            "Epoch 16/20\n",
            "1946/1946 [==============================] - 46s 24ms/step - loss: 0.2427 - accuracy: 0.9308 - val_loss: 0.1963 - val_accuracy: 0.9490\n",
            "Epoch 17/20\n",
            "1946/1946 [==============================] - 46s 23ms/step - loss: 0.2368 - accuracy: 0.9320 - val_loss: 0.2079 - val_accuracy: 0.9459\n",
            "Epoch 18/20\n",
            "1946/1946 [==============================] - 46s 24ms/step - loss: 0.2301 - accuracy: 0.9338 - val_loss: 0.1905 - val_accuracy: 0.9528\n",
            "Epoch 19/20\n",
            "1946/1946 [==============================] - 46s 23ms/step - loss: 0.2274 - accuracy: 0.9347 - val_loss: 0.1963 - val_accuracy: 0.9519\n",
            "Epoch 20/20\n",
            "1946/1946 [==============================] - 46s 24ms/step - loss: 0.2246 - accuracy: 0.9358 - val_loss: 0.2014 - val_accuracy: 0.9458\n"
          ],
          "name": "stdout"
        }
      ]
    },
    {
      "cell_type": "code",
      "metadata": {
        "id": "UgC0b-wzAug9",
        "colab_type": "code",
        "colab": {
          "base_uri": "https://localhost:8080/",
          "height": 35
        },
        "outputId": "2c6cd356-f8ff-4874-84fb-09e8366fd234"
      },
      "source": [
        "train_acc = history.history['accuracy']\n",
        "val_acc = history.history['val_accuracy']\n",
        "\n",
        "train_loss = history.history['loss']\n",
        "val_loss = history.history['val_loss']\n",
        "\n",
        "test_loss, test_acc = model.evaluate(x=test_images, y=test_labels, verbose=1)"
      ],
      "execution_count": 12,
      "outputs": [
        {
          "output_type": "stream",
          "text": [
            "814/814 [==============================] - 3s 3ms/step - loss: 0.1807 - accuracy: 0.9541\n"
          ],
          "name": "stdout"
        }
      ]
    }
  ]
}