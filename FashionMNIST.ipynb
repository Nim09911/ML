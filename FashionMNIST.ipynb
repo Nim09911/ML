{
  "nbformat": 4,
  "nbformat_minor": 0,
  "metadata": {
    "colab": {
      "name": "FashionMNIST.ipynb",
      "provenance": [],
      "authorship_tag": "ABX9TyMQ5sJIHFTQQUuWXBFBN3vI",
      "include_colab_link": true
    },
    "kernelspec": {
      "name": "python3",
      "display_name": "Python 3"
    }
  },
  "cells": [
    {
      "cell_type": "markdown",
      "metadata": {
        "id": "view-in-github",
        "colab_type": "text"
      },
      "source": [
        "<a href=\"https://colab.research.google.com/github/Nim09911/Tensorflow/blob/master/FashionMNIST.ipynb\" target=\"_parent\"><img src=\"https://colab.research.google.com/assets/colab-badge.svg\" alt=\"Open In Colab\"/></a>"
      ]
    },
    {
      "cell_type": "markdown",
      "metadata": {
        "id": "VncfNPrRXV5L",
        "colab_type": "text"
      },
      "source": [
        "#Introduction to Tensorflow for AI and ML\n",
        "\n",
        "---\n",
        "\n",
        "\n",
        "**Fashion MNIST**"
      ]
    },
    {
      "cell_type": "code",
      "metadata": {
        "id": "woXbSWVnXLQP",
        "colab_type": "code",
        "colab": {}
      },
      "source": [
        "import numpy as np\n",
        "import matplotlib.pyplot as plt\n",
        "import tensorflow as tf\n",
        "from tensorflow import keras"
      ],
      "execution_count": 1,
      "outputs": []
    },
    {
      "cell_type": "markdown",
      "metadata": {
        "id": "zBgVfTxHXvv_",
        "colab_type": "text"
      },
      "source": [
        "Loading the Data via keras API\n",
        "\n",
        "---\n",
        "\n",
        "\n",
        "Image data is in the from of 28x28 greyscale pixels; the labels are numbered instead of giving names explicitly to help reduce bias and avoid language issues."
      ]
    },
    {
      "cell_type": "code",
      "metadata": {
        "id": "cWH2EC9ZXuuX",
        "colab_type": "code",
        "colab": {
          "base_uri": "https://localhost:8080/",
          "height": 156
        },
        "outputId": "f6869387-b160-42d8-f566-973e0d9e26c7"
      },
      "source": [
        "data = tf.keras.datasets.fashion_mnist\n",
        "(training_images,training_labels),(testing_images,testing_labels) = data.load_data()"
      ],
      "execution_count": 2,
      "outputs": [
        {
          "output_type": "stream",
          "text": [
            "Downloading data from https://storage.googleapis.com/tensorflow/tf-keras-datasets/train-labels-idx1-ubyte.gz\n",
            "32768/29515 [=================================] - 0s 0us/step\n",
            "Downloading data from https://storage.googleapis.com/tensorflow/tf-keras-datasets/train-images-idx3-ubyte.gz\n",
            "26427392/26421880 [==============================] - 0s 0us/step\n",
            "Downloading data from https://storage.googleapis.com/tensorflow/tf-keras-datasets/t10k-labels-idx1-ubyte.gz\n",
            "8192/5148 [===============================================] - 0s 0us/step\n",
            "Downloading data from https://storage.googleapis.com/tensorflow/tf-keras-datasets/t10k-images-idx3-ubyte.gz\n",
            "4423680/4422102 [==============================] - 0s 0us/step\n"
          ],
          "name": "stdout"
        }
      ]
    },
    {
      "cell_type": "markdown",
      "metadata": {
        "id": "UVgbjEr1YNGJ",
        "colab_type": "text"
      },
      "source": [
        "Viewing the data\n",
        "\n",
        "---"
      ]
    },
    {
      "cell_type": "code",
      "metadata": {
        "id": "cycJtxPn3ooa",
        "colab_type": "code",
        "colab": {
          "base_uri": "https://localhost:8080/",
          "height": 1000
        },
        "outputId": "42677e60-76e1-4351-bb71-32078fd404b1"
      },
      "source": [
        "plt.imshow(training_images[45])\n",
        "print(training_labels[45])\n",
        "print(training_images[45])"
      ],
      "execution_count": 3,
      "outputs": [
        {
          "output_type": "stream",
          "text": [
            "2\n",
            "[[  0   0   0   1   0   0   0   0   0  34 148 202 107  84 162 198  90  26\n",
            "    0   0   0   0   0   0   0   0   0   0]\n",
            " [  0   0   0   0   0   0  21 107 166 168 152 204 238 248 237 190 142 178\n",
            "  158  98  17   0   0   0   0   0   0   0]\n",
            " [  0   0   0   1   0  55 188 140 131 121 119 116 146 157 132 115 136 125\n",
            "  140 143 181  51   0   0   0   0   0   0]\n",
            " [  0   0   0   0   0 167 134 113 130 134 140 132 125 125 131 135 130 133\n",
            "  131 115 135 163   6   0   0   0   0   0]\n",
            " [  0   0   0   0  58 148 133 124 134 128 135 128 133 130 133 137 138 130\n",
            "  124 130 133 147  82   0   1   0   0   0]\n",
            " [  0   0   0   0  86 148 158 139 124 120 131 134 132 134 124 134 132 137\n",
            "  126 137 136 146 114   0   0   0   0   0]\n",
            " [  0   0   0   0 112 141 174 143 117 134 130 128 131 136 134 128 128 131\n",
            "  106 187 149 147 143   0   0   0   0   0]\n",
            " [  0   0   0   0 134 151 167 154 114 134 138 139 135 135 130 130 124 129\n",
            "  119 229 141 145 164   0   0   0   0   0]\n",
            " [  0   0   0   0 136 154 169 157 109 147 140 137 137 136 142 141 139 129\n",
            "  123 201 146 138 172  21   0   0   0   0]\n",
            " [  0   0   0   0 145 158 171 175 111 136 145 136 135 138 137 143 146 140\n",
            "  122 184 167 136 170  58   0   0   0   0]\n",
            " [  0   0   0   0 151 155 189 183 120 135 132 136 135 133 128 130 134 120\n",
            "  153 230 156 135 167  83   0   0   0   0]\n",
            " [  0   0   0   1 166 151 208 175 116 142 144 138 149 133 131 137 140 119\n",
            "  126 206 198 141 166 101   0   0   0   0]\n",
            " [  0   0   0   6 169 146 237 187 104 131 136 149 147 137 137 137 132 137\n",
            "  113 166 206 151 162 126   0   0   0   0]\n",
            " [  0   0   0  20 180 136 231 214 105 134 140 139 136 137 136 148 134 149\n",
            "  111 139 255 151 158 147   0   0   0   0]\n",
            " [  0   0   0  33 184 109 217 182 105 124 143 131 135 137 139 138 131 142\n",
            "  132  99 249 162 157 172   0   0   0   0]\n",
            " [  0   0   0  35 180 112 233 143 109 133 145 146 142 142 139 141 135 141\n",
            "  152 101 205 163 154 170   0   0   0   0]\n",
            " [  0   0   0  42 183 123 217 117 126 137 140 134 137 135 143 141 133 133\n",
            "  149 107 166 176 153 169  14   0   0   0]\n",
            " [  0   0   0  48 175 147 210 101 119 136 142 137 142 139 147 142 146 126\n",
            "  138 102 131 197 161 183  32   0   0   0]\n",
            " [  0   0   0  56 165 163 213  74 126 138 149 133 133 132 141 134 142 132\n",
            "  132 126 117 193 162 172  39   0   0   0]\n",
            " [  0   0   0  62 157 165 227  39 135 138 136 142 146 143 136 138 134 141\n",
            "  134 116  78 197 171 156  44   0   0   0]\n",
            " [  0   0   0  65 162 169 245  39 140 133 133 128 132 134 143 145 134 133\n",
            "  134 128  36 208 172 151  55   0   0   0]\n",
            " [  0   0   0  72 147 168 244  25 142 137 138 133 128 132 147 145 135 136\n",
            "  133 131  26 207 173 149  67   0   0   0]\n",
            " [  0   0   0  68 153 179 250  11 135 134 139 133 136 140 140 143 145 140\n",
            "  131 126  32 207 175 136  73   0   0   0]\n",
            " [  0   0   0  61 155 180 252  23 151 132 131 133 133 129 135 140 132 139\n",
            "  132 139  38 221 174 135  77   0   0   0]\n",
            " [  0   0   0  18 147 187 185   3 173 153 151 150 153 150 150 153 148 151\n",
            "  146 161   4 184 175 136  37   0   0   0]\n",
            " [  0   0   0   0 150 204  76   0 213 165 167 170 172 171 169 170 172 167\n",
            "  160 202   0 107 196 152   0   0   0   0]\n",
            " [  0   0   0   0 123 162  41   2 153 124 133 136 141 135 132 134 139 144\n",
            "  141 132   0  67 153 142   0   0   0   0]\n",
            " [  0   0   0   0   0   0   0   0   0   0   0   0   0   0   0   0   0   0\n",
            "    0   0   0   0   0   0   0   0   0   0]]\n"
          ],
          "name": "stdout"
        },
        {
          "output_type": "display_data",
          "data": {
            "image/png": "[encoded data removed]",
            "text/plain": [
              "<Figure size 432x288 with 1 Axes>"
            ]
          },
          "metadata": {
            "tags": [],
            "needs_background": "light"
          }
        }
      ]
    },
    {
      "cell_type": "markdown",
      "metadata": {
        "id": "soNJLXva3nde",
        "colab_type": "text"
      },
      "source": [
        "Feature Scaling (dividing by 255)\n",
        "\n",
        "---"
      ]
    },
    {
      "cell_type": "code",
      "metadata": {
        "id": "BYnTEpGS5Mwd",
        "colab_type": "code",
        "colab": {}
      },
      "source": [
        "training_images = training_images/255.0\n",
        "testing_images = testing_images/255.0"
      ],
      "execution_count": 4,
      "outputs": []
    },
    {
      "cell_type": "markdown",
      "metadata": {
        "id": "PAEtDUeI5GH7",
        "colab_type": "text"
      },
      "source": [
        "Making the model\n",
        "\n",
        "---"
      ]
    },
    {
      "cell_type": "code",
      "metadata": {
        "id": "s3mFsZ8C5XxJ",
        "colab_type": "code",
        "colab": {}
      },
      "source": [
        "model = tf.keras.Sequential([\n",
        "    tf.keras.layers.Flatten(),\n",
        "    tf.keras.layers.Dense(128, activation='relu'),\n",
        "    tf.keras.layers.Dense(10,activation='softmax')\n",
        "])"
      ],
      "execution_count": 5,
      "outputs": []
    },
    {
      "cell_type": "markdown",
      "metadata": {
        "id": "pLfkTz5E3jUY",
        "colab_type": "text"
      },
      "source": [
        "Compiling and fitting model\n",
        "\n",
        "---"
      ]
    },
    {
      "cell_type": "code",
      "metadata": {
        "id": "4mgGGu8W6RK_",
        "colab_type": "code",
        "colab": {
          "base_uri": "https://localhost:8080/",
          "height": 381
        },
        "outputId": "a6cbfe8c-3c1c-4b51-c73b-ec7b2385705b"
      },
      "source": [
        "model.compile(\n",
        "    optimizer =\"adam\",\n",
        "    loss=\"sparse_categorical_crossentropy\",\n",
        "    metrics=['accuracy'])\n",
        "\n",
        "model.fit(training_images,training_labels, epochs=10)"
      ],
      "execution_count": 6,
      "outputs": [
        {
          "output_type": "stream",
          "text": [
            "Epoch 1/10\n",
            "1875/1875 [==============================] - 3s 2ms/step - loss: 0.4994 - accuracy: 0.8249\n",
            "Epoch 2/10\n",
            "1875/1875 [==============================] - 3s 2ms/step - loss: 0.3785 - accuracy: 0.8644\n",
            "Epoch 3/10\n",
            "1875/1875 [==============================] - 3s 2ms/step - loss: 0.3378 - accuracy: 0.8762\n",
            "Epoch 4/10\n",
            "1875/1875 [==============================] - 3s 2ms/step - loss: 0.3133 - accuracy: 0.8856\n",
            "Epoch 5/10\n",
            "1875/1875 [==============================] - 3s 2ms/step - loss: 0.2941 - accuracy: 0.8917\n",
            "Epoch 6/10\n",
            "1875/1875 [==============================] - 3s 2ms/step - loss: 0.2815 - accuracy: 0.8958\n",
            "Epoch 7/10\n",
            "1875/1875 [==============================] - 3s 2ms/step - loss: 0.2685 - accuracy: 0.9000\n",
            "Epoch 8/10\n",
            "1875/1875 [==============================] - 3s 2ms/step - loss: 0.2582 - accuracy: 0.9041\n",
            "Epoch 9/10\n",
            "1875/1875 [==============================] - 3s 2ms/step - loss: 0.2496 - accuracy: 0.9076\n",
            "Epoch 10/10\n",
            "1875/1875 [==============================] - 3s 2ms/step - loss: 0.2418 - accuracy: 0.9099\n"
          ],
          "name": "stdout"
        },
        {
          "output_type": "execute_result",
          "data": {
            "text/plain": [
              "<tensorflow.python.keras.callbacks.History at 0x7facd96bba58>"
            ]
          },
          "metadata": {
            "tags": []
          },
          "execution_count": 6
        }
      ]
    },
    {
      "cell_type": "markdown",
      "metadata": {
        "id": "Gq1DO2CG8N-C",
        "colab_type": "text"
      },
      "source": [
        "Model Evaluation\n",
        "\n",
        "---"
      ]
    },
    {
      "cell_type": "code",
      "metadata": {
        "id": "CTV6T2bh8h_y",
        "colab_type": "code",
        "colab": {
          "base_uri": "https://localhost:8080/",
          "height": 52
        },
        "outputId": "811b4c2e-ac43-41df-fcc8-2195f88ff24a"
      },
      "source": [
        "model.evaluate(testing_images,testing_labels)"
      ],
      "execution_count": 7,
      "outputs": [
        {
          "output_type": "stream",
          "text": [
            "313/313 [==============================] - 0s 1ms/step - loss: 0.3529 - accuracy: 0.8776\n"
          ],
          "name": "stdout"
        },
        {
          "output_type": "execute_result",
          "data": {
            "text/plain": [
              "[0.35287365317344666, 0.8776000142097473]"
            ]
          },
          "metadata": {
            "tags": []
          },
          "execution_count": 7
        }
      ]
    }
  ]
}